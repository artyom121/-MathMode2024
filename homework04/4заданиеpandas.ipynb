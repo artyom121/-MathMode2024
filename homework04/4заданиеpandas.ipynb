{
  "metadata": {
    "kernelspec": {
      "name": "python",
      "display_name": "Python (Pyodide)",
      "language": "python"
    },
    "language_info": {
      "codemirror_mode": {
        "name": "python",
        "version": 3
      },
      "file_extension": ".py",
      "mimetype": "text/x-python",
      "name": "python",
      "nbconvert_exporter": "python",
      "pygments_lexer": "ipython3",
      "version": "3.8"
    },
    "colab": {
      "provenance": []
    }
  },
  "nbformat_minor": 4,
  "nbformat": 4,
  "cells": [
    {
      "cell_type": "markdown",
      "source": "Сарксиян Артем Оганнесович НММбд-01-22",
      "metadata": {
        "id": "ghLY1xxLbU5s"
      }
    },
    {
      "cell_type": "markdown",
      "source": "№1 Откройте файл с таблицей (не забудьте про её формат). Выведите последние 10 строк. Посмотрите на данные и скажите, что они из себя представляют, сколько в таблице строк, какие столбцы?\n№2 Ответьте на вопросы: Сколько заказов попало в выборку? Сколько уникальных категорий товара было куплено? (item_name)",
      "metadata": {
        "id": "o-fYcq2gbZj1"
      }
    },
    {
      "cell_type": "code",
      "source": "import pandas as pd\n\nbaza = pd.read_csv('chipotle.tsv', sep='\\t')\n\nlist10 = baza.tail(10)\nprint(list10)\nprint(baza.info())\n\ncounthorder = baza['order_id'].nunique()\n\ncountdistinct = baza['item_name'].nunique()\n\nprint(\"Количество заказов в выборке:\", counthorder)\nprint(\"Количество уникальных категорий товара:\", countdistinct)",
      "metadata": {
        "colab": {
          "base_uri": "https://localhost:8080/"
        },
        "id": "V2l6RwvVbQfp",
        "outputId": "37ffd28d-e0aa-4278-8549-08d6df233216",
        "trusted": true
      },
      "outputs": [
        {
          "name": "stdout",
          "text": "      order_id  quantity            item_name  \\\n4612      1831         1        Carnitas Bowl   \n4613      1831         1                Chips   \n4614      1831         1        Bottled Water   \n4615      1832         1   Chicken Soft Tacos   \n4616      1832         1  Chips and Guacamole   \n4617      1833         1        Steak Burrito   \n4618      1833         1        Steak Burrito   \n4619      1834         1   Chicken Salad Bowl   \n4620      1834         1   Chicken Salad Bowl   \n4621      1834         1   Chicken Salad Bowl   \n\n                                     choice_description item_price  \n4612  [Fresh Tomato Salsa, [Fajita Vegetables, Rice,...     $9.25   \n4613                                                NaN     $2.15   \n4614                                                NaN     $1.50   \n4615   [Fresh Tomato Salsa, [Rice, Cheese, Sour Cream]]     $8.75   \n4616                                                NaN     $4.45   \n4617  [Fresh Tomato Salsa, [Rice, Black Beans, Sour ...    $11.75   \n4618  [Fresh Tomato Salsa, [Rice, Sour Cream, Cheese...    $11.75   \n4619  [Fresh Tomato Salsa, [Fajita Vegetables, Pinto...    $11.25   \n4620  [Fresh Tomato Salsa, [Fajita Vegetables, Lettu...     $8.75   \n4621  [Fresh Tomato Salsa, [Fajita Vegetables, Pinto...     $8.75   \n<class 'pandas.core.frame.DataFrame'>\nRangeIndex: 4622 entries, 0 to 4621\nData columns (total 5 columns):\n #   Column              Non-Null Count  Dtype \n---  ------              --------------  ----- \n 0   order_id            4622 non-null   int64 \n 1   quantity            4622 non-null   int64 \n 2   item_name           4622 non-null   object\n 3   choice_description  3376 non-null   object\n 4   item_price          4622 non-null   object\ndtypes: int64(2), object(3)\nmemory usage: 126.5+ KB\nNone\nКоличество заказов в выборке: 1834\nКоличество уникальных категорий товара: 50\n",
          "output_type": "stream"
        }
      ],
      "execution_count": 4
    },
    {
      "cell_type": "markdown",
      "source": "№3 Есть ли в данных пропуски? В каких колонках?",
      "metadata": {
        "id": "oBcC7vjXbsXR"
      }
    },
    {
      "cell_type": "code",
      "source": "import pandas as pd\n\nbaza = pd.read_csv('chipotle.tsv', sep='\\t')\n\napass = baza.columns[baza.isnull().any()]\nif apass.empty:\n    print(\"нет пропусков\")\nelse:\n    print(\"пропуск в колонке:\")\n        for column in apass:\n        print(column)",
      "metadata": {
        "colab": {
          "base_uri": "https://localhost:8080/"
        },
        "id": "uvgY_fYAbw0x",
        "outputId": "d274bdff-bd2f-49fc-e9b3-d88eaface439",
        "trusted": true
      },
      "outputs": [
        {
          "name": "stdout",
          "text": "пропуск в колонке:\n",
          "output_type": "stream"
        }
      ],
      "execution_count": 8
    },
    {
      "cell_type": "markdown",
      "source": "Заполните пропуски пустой строкой для строковых колонок и нулём для числовых.",
      "metadata": {
        "id": "l9WkgSx9b0AG"
      }
    },
    {
      "cell_type": "code",
      "source": "import pandas as pd\n\nbaza = pd.read_csv('chipotle.tsv', sep='\\t')\n\nfor column in baza.columns:\n    if baza[column].dtype == 'object':\n        baza[column].fillna('', inplace=True)\n    else:\n        baza[column].fillna(0, inplace=True)\n\nif baza.isnull().values.any():\n    print(\"пропуски:\")\nelse:\n    print(\"все заполнено\")",
      "metadata": {
        "colab": {
          "base_uri": "https://localhost:8080/"
        },
        "id": "MlgRGO_bb2ZS",
        "outputId": "983b5588-2c32-4b44-acb3-79f5ecfff5fe",
        "trusted": true
      },
      "outputs": [
        {
          "name": "stdout",
          "text": "все заполнено\n",
          "output_type": "stream"
        }
      ],
      "execution_count": 9
    },
    {
      "cell_type": "markdown",
      "source": "№4 посмотрите внимательнее на колонку с ценой товара. Какого она типа? Создайте новую колонку так, чтобы в ней цена была числом. Для этого попробуйте применить функцию-преобразование к каждой строке вашей таблицы (для этого есть соответствующая функция).",
      "metadata": {
        "id": "rGZJOF6Wb5-u"
      }
    },
    {
      "cell_type": "code",
      "source": "import pandas as pd\n\nbaza = pd.read_csv('chipotle.tsv', sep='\\t')\n\nprint(\"Тип данных в колонке 'item_price':\", baza['item_price'].dtype)\nbaza['price_numeric'] = pd.to_numeric(baza['item_price'], errors='coerce')\nprint(\"новый тип данных в 'price_numeric':\", baza['price_numeric'].dtype)",
      "metadata": {
        "colab": {
          "base_uri": "https://localhost:8080/"
        },
        "id": "0kMEDJlXb9OA",
        "outputId": "8a496e6a-121f-4518-a0e9-2704c97dbadd",
        "trusted": true
      },
      "outputs": [
        {
          "name": "stdout",
          "text": "Тип данных в колонке 'item_price': object\nновый тип данных в 'price_numeric': float64\n",
          "output_type": "stream"
        }
      ],
      "execution_count": 12
    },
    {
      "cell_type": "markdown",
      "source": "Какая средняя/минимальная/максимальная цена у товара?",
      "metadata": {
        "id": "rg9QxeDBcK8f"
      }
    },
    {
      "cell_type": "code",
      "source": "import pandas as pd\n\nbaza = pd.read_csv('chipotle.tsv', sep='\\t')\n\naverage_price = baza['price_numeric'].mean()\n\nmin_price = baza['price_numeric'].min()\n\nmax_price = baza['price_numeric'].max()\n\nprint(f\"Средняя цена товара: {average_price}\")\nprint(f\"Минимальная цена: {min_price}\")\nprint(f\"Максимальная цена: {max_price}\")",
      "metadata": {
        "id": "-QcXdS5tcN_1",
        "trusted": true
      },
      "outputs": [],
      "execution_count": null
    },
    {
      "cell_type": "markdown",
      "source": "Удалите старую колонку с ценой.",
      "metadata": {
        "id": "ywwku7difWd_"
      }
    },
    {
      "cell_type": "code",
      "source": "import pandas as pd\n\nbaza = pd.read_csv('chipotle.tsv', sep='\\t')\n\nbaza.drop('item_price', axis=1, inplace=True)\n\nbaza.to_csv('file_updated.tsv', sep='\\t', index=False)",
      "metadata": {
        "id": "l7lFmdFwfZDf",
        "trusted": true
      },
      "outputs": [],
      "execution_count": 14
    },
    {
      "cell_type": "markdown",
      "source": "№5 Какие 5 товаров были самыми дешёвыми и самыми дорогими? (по item_name)\nДля этого будет удобно избавиться от дубликатов и отсортировать товары. Не забудьте про количество товара.",
      "metadata": {
        "id": "LwrQTtN7ff-X"
      }
    },
    {
      "cell_type": "code",
      "source": "import pandas as pd\n\nbaza = pd.read_csv('chipotle.tsv', sep='\\t')\n\nbaza.drop_duplicates(inplace=True)\n\nsorted_baza = baza.sort_values(by=['price_numeric', 'item_name'])\n\ncheap = sorted_baza.head(5)\nexpensive = sorted_baza.tail(5)\nprint(\"Самые дешевые товары:\", cheap[['item_name', 'price_numeric']])\nprint(\"Самые дорогие товары:\", expensive[['item_name', 'price_numeric']])",
      "metadata": {
        "id": "dTZ0UOIUfi2F",
        "trusted": true
      },
      "outputs": [],
      "execution_count": null
    },
    {
      "cell_type": "markdown",
      "source": "№6 Сколько раз клиенты покупали больше 1 Chicken Bowl (item_name)?",
      "metadata": {
        "id": "qLeIXjzsggOw"
      }
    },
    {
      "cell_type": "code",
      "source": "import pandas as pd\n\nbaza = pd.read_csv('chipotle.tsv', sep='\\t')\nchicken = baza[(baza['item_name'] == 'Chicken Bowl') & (baza['quantity'] > 1)]\ncount = chicken.shape[0]\n\nprint(f\"Клиенты покупали более 1 Chicken Bowl {count} раз\")",
      "metadata": {
        "colab": {
          "base_uri": "https://localhost:8080/"
        },
        "id": "MMmPT6yUgjYE",
        "outputId": "882aaf5e-56c7-47aa-e91d-91123b0e1ccc",
        "trusted": true
      },
      "outputs": [
        {
          "name": "stdout",
          "text": "Клиенты покупали более 1 Chicken Bowl 33 раз\n",
          "output_type": "stream"
        }
      ],
      "execution_count": 17
    },
    {
      "cell_type": "markdown",
      "source": "№7 Какой средний чек у заказа? Сколько в среднем товаров покупают?",
      "metadata": {
        "id": "uvKLTKNihDgJ"
      }
    },
    {
      "cell_type": "code",
      "source": "import pandas as pd\n\nbaza = pd.read_csv('chipotle.tsv', sep='\\t')\n\navg = baza['total_price'].mean()\n\navg1 = baza['quantity'].mean()\n\nprint(f\"Средний чек: {avg}\")\nprint(f\"Среднее количество товаров: {avg1}\")",
      "metadata": {
        "id": "_mWMjfdzhGMr",
        "trusted": true
      },
      "outputs": [],
      "execution_count": null
    },
    {
      "cell_type": "markdown",
      "source": "№8 Сколько заказов содержали ровно 1 товар?",
      "metadata": {
        "id": "Q9JpFTfRhRgo"
      }
    },
    {
      "cell_type": "code",
      "source": "import pandas as pd\n\nbaza = pd.read_csv('chipotle.tsv', sep='\\t')\ncount = baza.groupby('order_id')['quantity'].sum()\nonlyone = count[count == 1].count()\n\nprint(f\"Количество заказов, где был только один товар: {onlyone}\")",
      "metadata": {
        "colab": {
          "base_uri": "https://localhost:8080/"
        },
        "id": "Wkco4KgDhU81",
        "outputId": "efbe9ffc-879a-4df5-b2a1-c8b53bebfcfe",
        "trusted": true
      },
      "outputs": [
        {
          "name": "stdout",
          "text": "Количество заказов, где был только один товар: 56\n",
          "output_type": "stream"
        }
      ],
      "execution_count": 20
    },
    {
      "cell_type": "markdown",
      "source": "№9 Какая самая популярная категория товара?",
      "metadata": {
        "id": "O-9TrbJphwhc"
      }
    },
    {
      "cell_type": "code",
      "source": "import pandas as pd\n\nbaza = pd.read_csv('chipotle.tsv', sep='\\t')\npopular = baza['category'].mode()[0]\n\nprint(f\"Самая популярная категория : {popular}\")",
      "metadata": {
        "id": "uKTgA5b4h01X",
        "trusted": true
      },
      "outputs": [],
      "execution_count": null
    },
    {
      "cell_type": "markdown",
      "source": "№10 Какие виды Burrito существуют? Какой из них чаще всего покупают? Какой из них самый дорогой?",
      "metadata": {
        "id": "D5BbRnYNio58"
      }
    },
    {
      "cell_type": "code",
      "source": "burrito = baza[baza['item_name'].str.contains('Burrito', case=False)]['item_name'].unique()\nmostburrito = baza[baza['item_name'].str.contains('Burrito', case=False)]['item_name'].mode()[0]\nmostexpensive = baza[baza['item_name'].str.contains('Burrito', case=False)].groupby('item_name')['price_numeric'].max().idxmax()\n\nprint(f\"Виды: {', '.join(burrito)}\")\nprint(f\"Чаще всего покупают: {mostburrito}\")\nprint(f\"Самый дорогой: {mostexpensive}\")",
      "metadata": {
        "id": "MixLBqSvi7_f",
        "trusted": true
      },
      "outputs": [],
      "execution_count": null
    },
    {
      "cell_type": "markdown",
      "source": "№11 В каком количестве заказов есть товар, который стоит более 40% от суммы всего чека?",
      "metadata": {
        "id": "gLMmI1mRjXYL"
      }
    },
    {
      "cell_type": "code",
      "source": "import pandas as pd\n\nbaza = pd.read_csv('chipotle.tsv', sep='\\t')\nbaza['item_total'] = baza['price_numeric'] * baza['quantity']\n\ntotal = baza.groupby('order_id')['item_total'].sum()\nexpensive = total[total * 0.4 < data.groupby('order_id')['item_total'].sum()].count()\n\nprint(f\"Количество заказов, где есть товар, стоимость которого превышает 40% от суммы всего чека: {expensive}\")",
      "metadata": {
        "id": "sDX_QaAHjb1R",
        "trusted": true
      },
      "outputs": [],
      "execution_count": null
    },
    {
      "cell_type": "markdown",
      "source": "№12 Предположим, что в данных была ошибка и Diet Coke (choice_description), который стоил $1.25, должен был стоить 1.35. Скорректируйте данные в таблицы и посчитайте, на какой процент больше денег было заработано с этого товара. Не забывайте, что количество товара не всегда равно 1.",
      "metadata": {
        "id": "3AlHTg17j-tx"
      }
    },
    {
      "cell_type": "code",
      "source": "import pandas as pd\n\nbaza = pd.read_csv('chipotle.tsv', sep='\\t')\nbaza.loc[(baza['item_name'] == 'Diet Coke') & (baza['choice_description'] == '[Diet Coke]'), 'price_numeric'] = 1.35\nbaza['total_revenue_before'] = baza['quantity'] * data['price_numeric']\nbaza['total_revenue_after'] = baza['quantity'] * 1.35\n\ntotalrevenue = ((baza['total_revenue_after'].sum() - baza['total_revenue_before'].sum()) / baza['total_revenue_before'].sum()) * 100\n\nprint(f\"выручка больше с товара Diet Coke на : {totalrevenue:.2f}%\")",
      "metadata": {
        "colab": {
          "base_uri": "https://localhost:8080/"
        },
        "id": "QnqXUQaUkBjN",
        "outputId": "c957509d-51ae-4359-eedc-4ed468107296"
      },
      "outputs": [],
      "execution_count": null
    },
    {
      "cell_type": "markdown",
      "source": "№13 создайте новый DateFrame из матрицы, созданной ниже. Назовите колонки index, column1, column2 и сделайте первую колонку индексом.",
      "metadata": {
        "id": "i0cLdPcPkyqL"
      }
    },
    {
      "cell_type": "code",
      "source": "import pandas as pd\nimport numpy as np\n\nbaza = np.array([[1, 'P', 'X'],\n                 [2, 'L', 'Y'],\n                 [3, 'M', 'Z']])\n\ndf = pd.DataFrame(baza, columns=['index', 'column1', 'column2'])\n\ndf.set_index('index', inplace=True)\n\nprint(df)",
      "metadata": {
        "colab": {
          "base_uri": "https://localhost:8080/"
        },
        "id": "DXdPPhyelVj1",
        "outputId": "7a239de6-2d44-46bc-d1e7-d1ca2ca43af6",
        "trusted": true
      },
      "outputs": [
        {
          "name": "stdout",
          "text": "      column1 column2\nindex                \n1           P       X\n2           L       Y\n3           M       Z\n",
          "output_type": "stream"
        }
      ],
      "execution_count": 25
    },
    {
      "cell_type": "markdown",
      "source": "Сохраните DataFrame на диск в формате csv без индексов и названий столбцов.",
      "metadata": {
        "id": "YLcF99_blzlw"
      }
    },
    {
      "cell_type": "code",
      "source": "import pandas as pd\nimport numpy as np\n\nbaza = np.array([[1, 'P', 'X'],\n                 [2, 'L', 'Y'],\n                 [3, 'M', 'Z']])\ndf = pd.DataFrame(baza, columns=['index', 'column1', 'column2'])\n\ndf.to_csv('output.csv', index=False, header=False)",
      "metadata": {
        "id": "EMieKqJXl1ju",
        "trusted": true
      },
      "outputs": [],
      "execution_count": 28
    },
    {
      "cell_type": "markdown",
      "source": "2. Визуализации и matplotlib",
      "metadata": {
        "id": "nveDWHHOl7OV"
      }
    },
    {
      "cell_type": "markdown",
      "source": "№14 Постройте гистограмму распределения сумм покупок и гистограмму средних цен отдельных видов продуктов item_name.",
      "metadata": {
        "id": "2G2XddLHmupB"
      }
    },
    {
      "cell_type": "code",
      "source": "import pandas as pd\nimport matplotlib.pyplot as plt\n\nbaza = pd.read_csv('chipotle.tsv', sep='\\t')\n\nplt.figure(figsize=(10, 6))\nplt.hist(baza['total_price'], bins=25, color='red', edgecolor='green')\nplt.title('Гистограмма распределения сумм покупок')\nplt.xlabel('Сумма покупки')\nplt.ylabel('Частота')\nplt.grid(axis='y', alpha=0.75)\nplt.show()\n\naverage_prices = baza.groupby('item_name')['price_numeric'].mean()\nplt.figure(figsize=(12, 6))\nplt.bar(average_prices.index, average_prices.values, color='blue')\nplt.title('Гистограмма средних цен отдельных видов продуктов')\nplt.xlabel('Название продукта')\nplt.ylabel('Средняя цена')\nplt.xticks(rotation=45)\nplt.grid(axis='y', alpha=0.75)\nplt.show()",
      "metadata": {
        "id": "-OkyE04AmwQ9",
        "trusted": true
      },
      "outputs": [],
      "execution_count": null
    },
    {
      "cell_type": "markdown",
      "source": "№15 Постройте график зависимости суммы покупок от дней.",
      "metadata": {
        "id": "gpKzBEfbm3zg"
      }
    },
    {
      "cell_type": "code",
      "source": "import pandas as pd\nimport matplotlib.pyplot as plt\n\nbaza = pd.read_csv('chipotle.tsv', sep='\\t')\n\nbaza['date'] = pd.to_datetime(baza['date'])\n\nday = baza.groupby('date')['total_price'].sum()\n\nplt.figure(figsize=(12, 6))\nplt.plot(day.index, day.values, marker='a', color='g', linestyle='-')\nplt.title('Зависимость суммы покупок от дней')\nplt.xlabel('Дата')\nplt.ylabel('Сумма покупок')\nplt.xticks(rotation=45)\nplt.grid(True)\nplt.show()",
      "metadata": {
        "id": "HwyVjGjfm6s_",
        "trusted": true
      },
      "outputs": [],
      "execution_count": null
    },
    {
      "cell_type": "markdown",
      "source": "№16 Постройте средних сумм покупок по дням недели (bar plot).",
      "metadata": {
        "id": "9XSrwBHYnKce"
      }
    },
    {
      "cell_type": "code",
      "source": "import pandas as pd\nimport matplotlib.pyplot as plt\n\nbaza = pd.read_csv('chipotle.tsv', sep='\\t')\n\nbaza['date'] = pd.to_datetime(baza['date'])\n\nbaza['day_of_week'] = baza['date'].dt.day_name()\n\navg = baza.groupby('day_of_week')['total_price'].mean()\n\nplt.figure(figsize=(10, 6))\navg.plot(kind='bar', color='r')\nplt.title('Средние суммы покупок по дням недели')\nplt.xlabel('День недели')\nplt.ylabel('Средняя сумма покупок')\nplt.xticks(rotation=45)\nplt.grid(axis='y', alpha=0.75)\nplt.show()",
      "metadata": {
        "id": "ZBVL62n6nMen",
        "trusted": true
      },
      "outputs": [],
      "execution_count": null
    },
    {
      "cell_type": "markdown",
      "source": "№17 Постройте график зависимости денег за товар от купленного количества (scatter plot).\n№18 Сохраните график в формате pdf (так он останется векторизованным).",
      "metadata": {
        "id": "RPzJPDJZnZn0"
      }
    },
    {
      "cell_type": "code",
      "source": "import pandas as pd\nimport matplotlib.pyplot as plt\n\nbaza = pd.read_csv('chipotle.tsv', sep='\\t')\n\nplt.figure(figsize=(10, 6))\nplt.scatter(baza['quantity'], baza['total_price'], color='y', alpha=0.6)\nplt.title('Зависимость денег за товар от купленного количества')\nplt.xlabel('Количество товара')\nplt.ylabel('Сумма покупки')\nplt.grid(True)\nplt.show()\n\nplt.savefig('scatter_plot.pdf', format='pdf')\n\nplt.show()",
      "metadata": {
        "id": "XO9cqrPUncZm"
      },
      "outputs": [],
      "execution_count": null
    }
  ]
}