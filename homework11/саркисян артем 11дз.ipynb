{
 "cells": [
  {
   "cell_type": "code",
   "execution_count": null,
   "id": "3ddf509e-30ca-4f45-90d8-057de01e4f3f",
   "metadata": {},
   "outputs": [],
   "source": [
    "##Саркисян Артем НММбд-01-22"
   ]
  },
  {
   "cell_type": "code",
   "execution_count": null,
   "id": "6d2d9bcf-c3bb-4367-af24-d4adcf304100",
   "metadata": {},
   "outputs": [],
   "source": [
    "##В ящике находится 17 качественных и 6 бракованных деталей. Если деталь качественная, вы зарабатываете 10 рублей. \n",
    "##Если бракованная, вы отдаете 20 рублей. Посчитать среднюю прибыль, если достать две детали наугад."
   ]
  },
  {
   "cell_type": "code",
   "execution_count": 1,
   "id": "8873d869-c838-4808-8713-c0b9649b0b54",
   "metadata": {},
   "outputs": [
    {
     "name": "stdout",
     "output_type": "stream",
     "text": [
      "Средняя прибыль при извлечении двух деталей наугад: 4.14 рублей\n"
     ]
    }
   ],
   "source": [
    "import random\n",
    "\n",
    "# Задаем количество качественных и бракованных деталей\n",
    "num_good = 17\n",
    "num_bad = 6\n",
    "\n",
    "# Задаем прибыль/убыток за каждую деталь\n",
    "profit_good = 10\n",
    "loss_bad = 20\n",
    "\n",
    "# Суммарное количество деталей\n",
    "total_details = num_good + num_bad\n",
    "\n",
    "# Функция для извлечения двух деталей\n",
    "def extract_details():\n",
    "    details = []\n",
    "    for _ in range(2):\n",
    "        details.append(1 if random.randint(1, total_details) <= num_good else 0)\n",
    "    return details\n",
    "\n",
    "# Функция для подсчета прибыли\n",
    "def calculate_profit(details):\n",
    "    good_count = details.count(1)\n",
    "    bad_count = len(details) - good_count\n",
    "    profit = good_count * profit_good - bad_count * loss_bad\n",
    "    return profit\n",
    "\n",
    "# Количество экспериментов\n",
    "num_experiments = 10000\n",
    "\n",
    "# Проводим эксперименты и суммируем прибыль\n",
    "total_profit = 0\n",
    "for _ in range(num_experiments):\n",
    "    details = extract_details()\n",
    "    total_profit += calculate_profit(details)\n",
    "\n",
    "# Вычисляем среднюю прибыль\n",
    "average_profit = total_profit / num_experiments\n",
    "\n",
    "print(f\"Средняя прибыль при извлечении двух деталей наугад: {average_profit:.2f} рублей\")\n"
   ]
  },
  {
   "cell_type": "code",
   "execution_count": null,
   "id": "a8e96641-35e8-4a04-9384-e5196a3bfd09",
   "metadata": {},
   "outputs": [],
   "source": [
    "##На испытание поставлено 1200 однотипных ламп. За первые 3000 часов работы отказало 70 ламп, а за интервал 3000– 4000 часа отказало еще 50 ламп. \n",
    "##Определить частоту и интенсивность отказов электронных ламп в промежутке 3000–4000 часов работы."
   ]
  },
  {
   "cell_type": "code",
   "execution_count": 2,
   "id": "b174ab3e-d13a-4150-b292-51206304f34d",
   "metadata": {},
   "outputs": [
    {
     "name": "stdout",
     "output_type": "stream",
     "text": [
      "Частота отказов в промежутке от 3000 до 4000 часов работы: 0.0442 (или 4.42%)\n",
      "Интенсивность отказов в промежутке от 3000 до 4000 часов работы: 0.00004425 (1/час)\n"
     ]
    }
   ],
   "source": [
    "# Общее количество ламп\n",
    "total_lamps = 1200\n",
    "\n",
    "# Количество отказавших ламп за первые 3000 часов\n",
    "failed_lamps_3000 = 70\n",
    "\n",
    "# Количество отказавших ламп за интервал 3000-4000 часов\n",
    "failed_lamps_3000_4000 = 50\n",
    "\n",
    "# Оставшееся количество работающих ламп после 3000 часов\n",
    "working_lamps_after_3000 = total_lamps - failed_lamps_3000\n",
    "\n",
    "# Вычисление частоты отказов в промежутке от 3000 до 4000 часов работы\n",
    "failure_rate = failed_lamps_3000_4000 / working_lamps_after_3000\n",
    "print(f\"Частота отказов в промежутке от 3000 до 4000 часов работы: {failure_rate:.4f} (или {failure_rate*100:.2f}%)\")\n",
    "\n",
    "# Вычисление интенсивности отказов в промежутке от 3000 до 4000 часов работы\n",
    "interval_duration = 4000 - 3000  # Длительность промежутка в часах\n",
    "failure_intensity = failure_rate / interval_duration\n",
    "print(f\"Интенсивность отказов в промежутке от 3000 до 4000 часов работы: {failure_intensity:.8f} (1/час)\")\n"
   ]
  },
  {
   "cell_type": "code",
   "execution_count": null,
   "id": "6cf0d32d-65a8-414e-9e69-bb91d0cdc8c3",
   "metadata": {},
   "outputs": [],
   "source": [
    "##В течение некоторого периода времени производилось наблюдение за работой одного экземпляра радиолокационной станции. \n",
    "##За весь период наблюдения было зафиксировано 15 отказов. До начала наблюдения станция проработала 258 часов, а к концу наблюдения наработка станции составила 1233 часа. Требуется определить среднюю наработку на отказ."
   ]
  },
  {
   "cell_type": "code",
   "execution_count": 3,
   "id": "6eff4970-7d46-4c65-aff4-ecc98fdc6f47",
   "metadata": {},
   "outputs": [
    {
     "name": "stdout",
     "output_type": "stream",
     "text": [
      "Количество отказов за период наблюдения: 15\n",
      "Наработка станции за период наблюдения (в часах): 975\n",
      "Средняя наработка на отказ (в часах): 65.00\n"
     ]
    }
   ],
   "source": [
    "# Количество зафиксированных отказов\n",
    "num_failures = 15\n",
    "\n",
    "# Наработка станции до начала наблюдения (в часах)\n",
    "initial_operating_time = 258\n",
    "\n",
    "# Наработка станции к концу наблюдения (в часах)\n",
    "final_operating_time = 1233\n",
    "\n",
    "# Вычисление наработки станции за период наблюдения\n",
    "observation_period = final_operating_time - initial_operating_time\n",
    "\n",
    "# Вычисление средней наработки на отказ\n",
    "mean_time_between_failures = observation_period / num_failures\n",
    "\n",
    "print(f\"Количество отказов за период наблюдения: {num_failures}\")\n",
    "print(f\"Наработка станции за период наблюдения (в часах): {observation_period}\")\n",
    "print(f\"Средняя наработка на отказ (в часах): {mean_time_between_failures:.2f}\")\n"
   ]
  },
  {
   "cell_type": "code",
   "execution_count": null,
   "id": "a65c2fba-e78a-44d6-bf29-2da8f2967e48",
   "metadata": {},
   "outputs": [],
   "source": [
    "##Система состоит из пяти приборов, вероятность исправной работы которых в течение времени t = 100 ч равны: р1(100) = 0,9996; р2(100) = 0,9998; р3(100) = 0,9996; р4(100) = 0,999; р5(100) = 0,9998. \n",
    "##Требуется определить частоту отказов системы в момент времени t = 100 ч."
   ]
  },
  {
   "cell_type": "code",
   "execution_count": 4,
   "id": "f7c78acf-ccf1-4297-8d77-8492452bf45e",
   "metadata": {},
   "outputs": [
    {
     "name": "stdout",
     "output_type": "stream",
     "text": [
      "Вероятность исправной работы системы в момент времени t = 100 ч: 0.9978\n",
      "Частота отказов системы в момент времени t = 100 ч: 0.0022\n"
     ]
    }
   ],
   "source": [
    "# Вероятности исправной работы приборов в течение времени t = 100 ч\n",
    "p1 = 0.9996\n",
    "p2 = 0.9998\n",
    "p3 = 0.9996\n",
    "p4 = 0.999\n",
    "p5 = 0.9998\n",
    "\n",
    "# Вычисление вероятности исправной работы системы\n",
    "system_reliability = p1 * p2 * p3 * p4 * p5\n",
    "\n",
    "# Вычисление частоты отказов системы\n",
    "system_failure_rate = 1 - system_reliability\n",
    "\n",
    "print(f\"Вероятность исправной работы системы в момент времени t = 100 ч: {system_reliability:.4f}\")\n",
    "print(f\"Частота отказов системы в момент времени t = 100 ч: {system_failure_rate:.4f}\")\n"
   ]
  },
  {
   "cell_type": "code",
   "execution_count": null,
   "id": "3aa6751c-fe48-49f5-a854-7decae253abc",
   "metadata": {},
   "outputs": [],
   "source": [
    "##Мистер Хэ играет в европейскую рулетку (где 18 чёрных ячеек, 18 красных, и 1 зелёная). Он играет по следующей системе: постоянно ставит 250 рублей на «красное». Необходимо составить закон распределения случайной величины – его выигрыша.\n",
    "##Вычислить математическое ожидание выигрыша и округлить его.\n",
    "##Сколько в среднем проигрывает игрок с каждой ставки?"
   ]
  },
  {
   "cell_type": "code",
   "execution_count": 5,
   "id": "9e3a6e0d-cab8-46c8-8835-37916912c8b9",
   "metadata": {},
   "outputs": [
    {
     "name": "stdout",
     "output_type": "stream",
     "text": [
      "Закон распределения случайной величины (выигрыша):\n",
      "Выигрыш 500 рублей с вероятностью 0.4865\n",
      "Выигрыш -250 рублей с вероятностью 0.0270\n",
      "\n",
      "Математическое ожидание выигрыша: 236 рублей\n",
      "Средний проигрыш с каждой ставки: -236 рублей\n"
     ]
    }
   ],
   "source": [
    "import math\n",
    "\n",
    "# Константы\n",
    "RED_PROBABILITY = 18 / 37  # Вероятность выпадения красного\n",
    "BLACK_PROBABILITY = 18 / 37  # Вероятность выпадения черного\n",
    "GREEN_PROBABILITY = 1 / 37  # Вероятность выпадения зеленого\n",
    "BET_AMOUNT = 250  # Размер ставки\n",
    "\n",
    "# Закон распределения случайной величины (выигрыша)\n",
    "outcomes = {\n",
    "    BET_AMOUNT * 2: RED_PROBABILITY,  # Выигрыш при выпадении красного\n",
    "    -BET_AMOUNT: BLACK_PROBABILITY,  # Проигрыш при выпадении черного\n",
    "    -BET_AMOUNT: GREEN_PROBABILITY  # Проигрыш при выпадении зеленого\n",
    "}\n",
    "\n",
    "# Вычисление математического ожидания выигрыша\n",
    "expected_value = sum(outcome * probability for outcome, probability in outcomes.items())\n",
    "expected_value = round(expected_value)\n",
    "\n",
    "# Вычисление среднего проигрыша с каждой ставки\n",
    "average_loss = -expected_value\n",
    "\n",
    "print(\"Закон распределения случайной величины (выигрыша):\")\n",
    "for outcome, probability in outcomes.items():\n",
    "    print(f\"Выигрыш {outcome} рублей с вероятностью {probability:.4f}\")\n",
    "\n",
    "print(f\"\\nМатематическое ожидание выигрыша: {expected_value} рублей\")\n",
    "print(f\"Средний проигрыш с каждой ставки: {average_loss} рублей\")\n"
   ]
  },
  {
   "cell_type": "code",
   "execution_count": null,
   "id": "e31cce7d-bfcc-4fb3-bf73-0a6eec617aa0",
   "metadata": {},
   "outputs": [],
   "source": []
  }
 ],
 "metadata": {
  "kernelspec": {
   "display_name": "Python 3 (ipykernel)",
   "language": "python",
   "name": "python3"
  },
  "language_info": {
   "codemirror_mode": {
    "name": "ipython",
    "version": 3
   },
   "file_extension": ".py",
   "mimetype": "text/x-python",
   "name": "python",
   "nbconvert_exporter": "python",
   "pygments_lexer": "ipython3",
   "version": "3.12.2"
  }
 },
 "nbformat": 4,
 "nbformat_minor": 5
}
